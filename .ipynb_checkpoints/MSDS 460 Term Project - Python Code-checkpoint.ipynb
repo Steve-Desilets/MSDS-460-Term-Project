{
 "cells": [
  {
   "cell_type": "markdown",
   "id": "df77de40",
   "metadata": {},
   "source": [
    "# MSDS 460 Term Project - Python Code"
   ]
  },
  {
   "cell_type": "markdown",
   "id": "3f6a64f4",
   "metadata": {},
   "source": [
    "#### Cesar Martinez, Dalton Chenoweth, Reagan Bennos, and Steve Desilets"
   ]
  },
  {
   "cell_type": "markdown",
   "id": "7fa21e91",
   "metadata": {},
   "source": [
    "#### August 26, 2023"
   ]
  },
  {
   "cell_type": "code",
   "execution_count": null,
   "id": "fd67b149",
   "metadata": {},
   "outputs": [],
   "source": []
  }
 ],
 "metadata": {
  "kernelspec": {
   "display_name": "Python 3 (ipykernel)",
   "language": "python",
   "name": "python3"
  },
  "language_info": {
   "codemirror_mode": {
    "name": "ipython",
    "version": 3
   },
   "file_extension": ".py",
   "mimetype": "text/x-python",
   "name": "python",
   "nbconvert_exporter": "python",
   "pygments_lexer": "ipython3",
   "version": "3.9.12"
  }
 },
 "nbformat": 4,
 "nbformat_minor": 5
}
